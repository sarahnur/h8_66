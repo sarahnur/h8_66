{
 "cells": [
  {
   "cell_type": "code",
   "execution_count": 4,
   "id": "b8b20ac3",
   "metadata": {},
   "outputs": [
    {
     "name": "stdout",
     "output_type": "stream",
     "text": [
      "yes\n",
      "yes\n",
      "yes\n"
     ]
    }
   ],
   "source": [
    "x = 0\n",
    "y = 5\n",
    "\n",
    "if x < y:\n",
    "    print ('yes')\n",
    "    \n",
    "if y < x:\n",
    "    print ('yes')\n",
    "    \n",
    "if x:\n",
    "    print ('yes')\n",
    "    \n",
    "if y:\n",
    "    print ('yes')\n",
    "\n",
    "if 'aul' in 'grault':\n",
    "    print ('yes')\n",
    "\n",
    "if 'quux' in ['foo', 'bar', 'baz']:\n",
    "    print ('yes')"
   ]
  },
  {
   "cell_type": "code",
   "execution_count": 5,
   "id": "f7c6bbf3",
   "metadata": {},
   "outputs": [
    {
     "name": "stdout",
     "output_type": "stream",
     "text": [
      "after conditional\n"
     ]
    }
   ],
   "source": [
    "if 'foo' in ['bar', 'baz', 'qux']:\n",
    "    print ('expression was true')\n",
    "    print ('executing statemen in suite')\n",
    "    print ('...')\n",
    "    print ('done.')\n",
    "    \n",
    "print ('after conditional')             "
   ]
  },
  {
   "cell_type": "code",
   "execution_count": 7,
   "id": "0096c1c6",
   "metadata": {},
   "outputs": [
    {
     "name": "stdout",
     "output_type": "stream",
     "text": [
      "outer condition is true\n",
      "between inner conditions\n",
      "inner condition 2\n",
      "end of outer condition\n",
      "after outer condition\n"
     ]
    }
   ],
   "source": [
    "if 'foo' in ['foo', 'bar', 'baz']:\n",
    "    print ('outer condition is true')\n",
    "\n",
    "if 10 > 20:\n",
    "    print ('inner condition 1')\n",
    "\n",
    "print ('between inner conditions')\n",
    "\n",
    "if 10 < 20:\n",
    "    print ('inner condition 2')\n",
    "\n",
    "print ('end of outer condition')\n",
    "print ('after outer condition')"
   ]
  },
  {
   "cell_type": "code",
   "execution_count": null,
   "id": "9a160e7b",
   "metadata": {},
   "outputs": [],
   "source": []
  }
 ],
 "metadata": {
  "kernelspec": {
   "display_name": "Python 3",
   "language": "python",
   "name": "python3"
  },
  "language_info": {
   "codemirror_mode": {
    "name": "ipython",
    "version": 3
   },
   "file_extension": ".py",
   "mimetype": "text/x-python",
   "name": "python",
   "nbconvert_exporter": "python",
   "pygments_lexer": "ipython3",
   "version": "3.8.8"
  }
 },
 "nbformat": 4,
 "nbformat_minor": 5
}
