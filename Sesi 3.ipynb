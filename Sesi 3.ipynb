{
 "cells": [
  {
   "cell_type": "code",
   "execution_count": 1,
   "id": "913f6b2d",
   "metadata": {},
   "outputs": [],
   "source": [
    "def function_name (parameters):\n",
    "    \"docstring\"\n",
    "    statement(s)"
   ]
  },
  {
   "cell_type": "code",
   "execution_count": 2,
   "id": "f030419e",
   "metadata": {},
   "outputs": [],
   "source": [
    "def my_function (p,l):\n",
    "    \"Function untuk mengitung luas\"\n",
    "    print (p*l)"
   ]
  },
  {
   "cell_type": "code",
   "execution_count": 3,
   "id": "8caeef6b",
   "metadata": {},
   "outputs": [
    {
     "name": "stdout",
     "output_type": "stream",
     "text": [
      "8\n"
     ]
    }
   ],
   "source": [
    "my_function (2,4)"
   ]
  },
  {
   "cell_type": "code",
   "execution_count": 4,
   "id": "5de5e913",
   "metadata": {},
   "outputs": [],
   "source": [
    "def printme (str):\n",
    "    \"This prints a passed string into this function\"\n",
    "    print (str)\n",
    "    return;"
   ]
  },
  {
   "cell_type": "code",
   "execution_count": 5,
   "id": "59154925",
   "metadata": {},
   "outputs": [
    {
     "name": "stdout",
     "output_type": "stream",
     "text": [
      "I'm first call to user defind function!\n",
      "Again second call to the same function\n"
     ]
    }
   ],
   "source": [
    "printme(\"I'm first call to user defind function!\")\n",
    "printme(\"Again second call to the same function\")"
   ]
  },
  {
   "cell_type": "code",
   "execution_count": 6,
   "id": "0ebc9384",
   "metadata": {},
   "outputs": [
    {
     "name": "stdout",
     "output_type": "stream",
     "text": [
      "Values inside the function: [10, 20, 30, [1, 2, 3, 4]]\n",
      "values outside the function: [10, 20, 30, [1, 2, 3, 4]]\n"
     ]
    }
   ],
   "source": [
    "def changeme (mylist):\n",
    "    \"This chages a passed list into this function\"\n",
    "    mylist.append([1,2,3,4]);\n",
    "    print(\"Values inside the function:\",mylist)\n",
    "    return\n",
    "\n",
    "mylist = [10,20,30];\n",
    "changeme(mylist);\n",
    "print(\"values outside the function:\", mylist)"
   ]
  },
  {
   "cell_type": "code",
   "execution_count": 8,
   "id": "c50c261d",
   "metadata": {},
   "outputs": [
    {
     "name": "stdout",
     "output_type": "stream",
     "text": [
      "Values inside the function: [1, 2, 3, 4]\n",
      "Values outside the function: [10, 20, 30]\n"
     ]
    }
   ],
   "source": [
    "def changeme(mylist):\n",
    "    \"This changes a passed list into this function\"\n",
    "    mylist=[1,2,3,4];\n",
    "    print(\"Values inside the function:\",mylist)\n",
    "    return\n",
    "\n",
    "mylist = [10,20,30];\n",
    "changeme (mylist);\n",
    "print (\"Values outside the function:\",mylist) "
   ]
  },
  {
   "cell_type": "code",
   "execution_count": 10,
   "id": "5590824f",
   "metadata": {},
   "outputs": [],
   "source": [
    "def printme (str):\n",
    "    \"This prints a passed string into this function\"\n",
    "    print(str)\n",
    "    return;"
   ]
  },
  {
   "cell_type": "code",
   "execution_count": 11,
   "id": "10158879",
   "metadata": {},
   "outputs": [
    {
     "ename": "TypeError",
     "evalue": "printme() missing 1 required positional argument: 'str'",
     "output_type": "error",
     "traceback": [
      "\u001b[1;31m---------------------------------------------------------------------------\u001b[0m",
      "\u001b[1;31mTypeError\u001b[0m                                 Traceback (most recent call last)",
      "\u001b[1;32m<ipython-input-11-19c689ae8a3e>\u001b[0m in \u001b[0;36m<module>\u001b[1;34m\u001b[0m\n\u001b[1;32m----> 1\u001b[1;33m \u001b[0mprintme\u001b[0m\u001b[1;33m(\u001b[0m\u001b[1;33m)\u001b[0m\u001b[1;33m\u001b[0m\u001b[1;33m\u001b[0m\u001b[0m\n\u001b[0m",
      "\u001b[1;31mTypeError\u001b[0m: printme() missing 1 required positional argument: 'str'"
     ]
    }
   ],
   "source": [
    "printme()"
   ]
  },
  {
   "cell_type": "code",
   "execution_count": 12,
   "id": "98dd15ac",
   "metadata": {},
   "outputs": [
    {
     "name": "stdout",
     "output_type": "stream",
     "text": [
      "Hacktiv8\n"
     ]
    }
   ],
   "source": [
    "printme(str=\"Hacktiv8\")"
   ]
  },
  {
   "cell_type": "code",
   "execution_count": 13,
   "id": "4df9b441",
   "metadata": {},
   "outputs": [
    {
     "name": "stdout",
     "output_type": "stream",
     "text": [
      "Name: Saya\n",
      "Age: 4\n"
     ]
    }
   ],
   "source": [
    "def printinfo(name,age):\n",
    "    print (\"Name:\",name)\n",
    "    print (\"Age:\",age)\n",
    "    return\n",
    "\n",
    "printinfo(\"Saya\",4)"
   ]
  },
  {
   "cell_type": "code",
   "execution_count": 14,
   "id": "6b17f317",
   "metadata": {},
   "outputs": [
    {
     "name": "stdout",
     "output_type": "stream",
     "text": [
      "Name: 4\n",
      "Age: Saya\n"
     ]
    }
   ],
   "source": [
    "printinfo(4,\"Saya\")"
   ]
  },
  {
   "cell_type": "code",
   "execution_count": 16,
   "id": "084e3e35",
   "metadata": {},
   "outputs": [
    {
     "name": "stdout",
     "output_type": "stream",
     "text": [
      "Name: Saya\n",
      "Age: 4\n"
     ]
    }
   ],
   "source": [
    "printinfo(age=4,name = \"Saya\")"
   ]
  },
  {
   "cell_type": "code",
   "execution_count": 19,
   "id": "46854836",
   "metadata": {
    "scrolled": true
   },
   "outputs": [
    {
     "name": "stdout",
     "output_type": "stream",
     "text": [
      "Name: Hacktiv8\n",
      "Age: 50\n"
     ]
    }
   ],
   "source": [
    "printinfo(name = \"Hacktiv8\", age = 50)"
   ]
  },
  {
   "cell_type": "code",
   "execution_count": 26,
   "id": "6fc0c64f",
   "metadata": {},
   "outputs": [
    {
     "name": "stdout",
     "output_type": "stream",
     "text": [
      "Value of total: 30\n"
     ]
    }
   ],
   "source": [
    "sum = lambda arg1, arg2: arg1 + arg2\n",
    "\n",
    "print(\"Value of total:\", sum(10,20))"
   ]
  },
  {
   "cell_type": "code",
   "execution_count": 27,
   "id": "082aef88",
   "metadata": {},
   "outputs": [],
   "source": [
    "def sum(arg1, arg2):\n",
    "    total = arg1 + arg2\n",
    "    total2 = total + arg1\n",
    "    print(\"Inside the function : \", total)\n",
    "    return total2"
   ]
  },
  {
   "cell_type": "code",
   "execution_count": 28,
   "id": "bfcfdd3f",
   "metadata": {},
   "outputs": [
    {
     "name": "stdout",
     "output_type": "stream",
     "text": [
      "Inside the function :  30\n"
     ]
    },
    {
     "data": {
      "text/plain": [
       "40"
      ]
     },
     "execution_count": 28,
     "metadata": {},
     "output_type": "execute_result"
    }
   ],
   "source": [
    "sum(10,20)"
   ]
  },
  {
   "cell_type": "code",
   "execution_count": 30,
   "id": "1ee735e8",
   "metadata": {},
   "outputs": [
    {
     "name": "stdout",
     "output_type": "stream",
     "text": [
      "Inside the function local total :  30\n",
      "Outside the function local total :  0\n"
     ]
    }
   ],
   "source": [
    "total = 0;\n",
    "\n",
    "def sum(arg1, arg2):\n",
    "    total = arg1 + arg2\n",
    "    print(\"Inside the function local total : \",total)\n",
    "    return total;\n",
    "\n",
    "# def min():\n",
    "\n",
    "sum(10,20);\n",
    "\n",
    "print(\"Outside the function local total : \",total)"
   ]
  },
  {
   "cell_type": "code",
   "execution_count": 31,
   "id": "9f42b09e",
   "metadata": {},
   "outputs": [],
   "source": [
    "jumlahKucing = 20\n",
    "\n",
    "def jumlahHewan():\n",
    "    jumlahAnjing = 30\n",
    "    return jumlahKucing + jumlahAnjing\n",
    "\n",
    "def jumlahKelinci():\n",
    "    return jumlahKucing + jumlahKucing"
   ]
  },
  {
   "cell_type": "code",
   "execution_count": 33,
   "id": "62d24cb3",
   "metadata": {},
   "outputs": [
    {
     "data": {
      "text/plain": [
       "50"
      ]
     },
     "execution_count": 33,
     "metadata": {},
     "output_type": "execute_result"
    }
   ],
   "source": [
    "jumlahHewan()"
   ]
  },
  {
   "cell_type": "code",
   "execution_count": 34,
   "id": "52ea6ddf",
   "metadata": {},
   "outputs": [
    {
     "data": {
      "text/plain": [
       "40"
      ]
     },
     "execution_count": 34,
     "metadata": {},
     "output_type": "execute_result"
    }
   ],
   "source": [
    "jumlahKelinci()"
   ]
  },
  {
   "cell_type": "code",
   "execution_count": null,
   "id": "c91c370f",
   "metadata": {},
   "outputs": [],
   "source": []
  }
 ],
 "metadata": {
  "kernelspec": {
   "display_name": "Python 3",
   "language": "python",
   "name": "python3"
  },
  "language_info": {
   "codemirror_mode": {
    "name": "ipython",
    "version": 3
   },
   "file_extension": ".py",
   "mimetype": "text/x-python",
   "name": "python",
   "nbconvert_exporter": "python",
   "pygments_lexer": "ipython3",
   "version": "3.8.8"
  }
 },
 "nbformat": 4,
 "nbformat_minor": 5
}
